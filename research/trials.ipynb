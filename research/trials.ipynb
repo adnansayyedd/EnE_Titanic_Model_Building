{
 "cells": [
  {
   "cell_type": "code",
   "execution_count": null,
   "id": "d8c0d4e5",
   "metadata": {},
   "outputs": [],
   "source": [
    "# Importing Data Manipulation Libraries\n",
    "import pandas as pd\n",
    "import numpy as np\n",
    "\n",
    "# importing Visualizaing Libraries\n",
    "import matplotlib.pyplot as plt\n",
    "import seaborn as sns\n",
    "\n",
    "# importing data warnings\n",
    "\n",
    "import warnings\n",
    "\n",
    "warnings.filterwarnings('ignore')\n",
    "\n",
    "# importing logging libraries\n",
    "\n",
    "import logging\n",
    "\n",
    "logging.basicConfig(filename='model.log', level=logging.INFO,\n",
    "                    format='%(asctime)s %(levelname)s: %(message)s'\n",
    "                    filemode= 'w'\n",
    "                    )\n",
    "\n",
    "\n",
    "\n"
   ]
  }
 ],
 "metadata": {
  "kernelspec": {
   "display_name": "venv",
   "language": "python",
   "name": "python3"
  },
  "language_info": {
   "name": "python",
   "version": "3.8.20"
  }
 },
 "nbformat": 4,
 "nbformat_minor": 5
}
